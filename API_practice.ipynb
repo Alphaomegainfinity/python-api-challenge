{
 "cells": [
  {
   "cell_type": "code",
   "execution_count": null,
   "metadata": {},
   "outputs": [],
   "source": []
  }
 ],
 "metadata": {
  "kernelspec": {
   "display_name": "Python 3.10.6 64-bit",
   "language": "python",
   "name": "python3"
  },
  "language_info": {
   "name": "python",
   "version": "3.10.6"
  },
  "orig_nbformat": 4,
  "vscode": {
   "interpreter": {
    "hash": "3618393665b5409183c49c1beca663af2d8ac53f9619eddbed01d7afec1e43df"
   }
  }
 },
 "nbformat": 4,
 "nbformat_minor": 2
}
